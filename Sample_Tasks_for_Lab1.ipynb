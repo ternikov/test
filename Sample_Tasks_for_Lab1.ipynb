{
 "cells": [
  {
   "cell_type": "markdown",
   "metadata": {},
   "source": [
    "# Sample Lab 1"
   ]
  },
  {
   "cell_type": "markdown",
   "metadata": {},
   "source": [
    "Your have **60 minutes** to find out solutions for **10 tasks** (each 1 point if correct)\n",
    "\n",
    "1) Rename this file with your **Surname_Name_Group.ipynb** (e.g. `Ivanov_Ivan_161.ipynb`)\n",
    "\n",
    "2) Fill-in the code cells with your solutions\n",
    "\n",
    "---"
   ]
  },
  {
   "cell_type": "markdown",
   "metadata": {},
   "source": [
    "#### Task 1\n",
    "Write the code, which asks user to print his/her First Name"
   ]
  },
  {
   "cell_type": "code",
   "execution_count": null,
   "metadata": {},
   "outputs": [],
   "source": [
    "# YOUR SOLUTION"
   ]
  },
  {
   "cell_type": "markdown",
   "metadata": {},
   "source": [
    "#### Task 2\n",
    "Write the code, which asks user to enter the positive integer number. The code should return the list of numbers from 1 to this number (including)"
   ]
  },
  {
   "cell_type": "code",
   "execution_count": null,
   "metadata": {},
   "outputs": [],
   "source": [
    "# YOUR SOLUTION"
   ]
  },
  {
   "cell_type": "markdown",
   "metadata": {},
   "source": [
    "#### Task 3\n",
    "Write a code with input() of integer number, which checks the number as *odd* or *even*. Example:\n",
    "```\n",
    "Input:\n",
    "Enter the number: 24\n",
    "\n",
    "Output:\n",
    "24 is even\n",
    "```"
   ]
  },
  {
   "cell_type": "code",
   "execution_count": null,
   "metadata": {},
   "outputs": [],
   "source": [
    "# YOUR SOLUTION"
   ]
  },
  {
   "cell_type": "markdown",
   "metadata": {},
   "source": [
    "#### Task 4\n",
    "The list of numbers is given:\n",
    "```python\n",
    "lst = [3.51, 4.60, 7.82, 6.67]\n",
    "```\n",
    "Your should print line-by-line the **sum**, **mean**, **max** and **min** of the `lst` is the following form (paste appropriate numbers instead of dots):\n",
    "```\n",
    "Sum: ...\n",
    "Mean: ...\n",
    "Max: ...\n",
    "Min: ...\n",
    "```"
   ]
  },
  {
   "cell_type": "code",
   "execution_count": null,
   "metadata": {},
   "outputs": [],
   "source": [
    "# YOUR SOLUTION"
   ]
  },
  {
   "cell_type": "markdown",
   "metadata": {},
   "source": [
    "#### Task 5\n",
    "Write the code, which asks user to enter the text (more than 1 symbol). The code should print out line-by-line the first symbol and the last symbol of the entered text. Example:\n",
    "```\n",
    "Input:\n",
    "Type text here: Hello World\n",
    "\n",
    "Output:\n",
    "H\n",
    "d\n",
    "```"
   ]
  },
  {
   "cell_type": "code",
   "execution_count": null,
   "metadata": {},
   "outputs": [],
   "source": [
    "# YOUR SOLUTION"
   ]
  },
  {
   "cell_type": "markdown",
   "metadata": {},
   "source": [
    "#### Task 6\n",
    "Write the code, which asks user to enter first his/her weight in kg, than enter his/her height in m. The code should calculate and print the BMI (body mass index) using given inputs.\n",
    "$$ BMI = \\cfrac{\\text{weight (kg)}}{(\\text{height (m)})^2} $$\n",
    "Example (use the other numbers):\n",
    "```\n",
    "Input:\n",
    "Enter your weight in kg: 80\n",
    "Enter your height in m: 1.80\n",
    "\n",
    "Output:\n",
    "Your BMI: 24.691358024691358\n",
    "```"
   ]
  },
  {
   "cell_type": "code",
   "execution_count": null,
   "metadata": {},
   "outputs": [],
   "source": [
    "# YOUR SOLUTION"
   ]
  },
  {
   "cell_type": "markdown",
   "metadata": {},
   "source": [
    "#### Task 7\n",
    "Make **for** loop instead of **while** inside the following code:\n",
    "```python\n",
    "z = ['apple', 'apple', 'banana', 'apple', 'banana']\n",
    "i = 1\n",
    "j = 0\n",
    "while i < 5:\n",
    "    if z[i] == 'apple':\n",
    "        j += 1\n",
    "    i += 1\n",
    "j\n",
    "```"
   ]
  },
  {
   "cell_type": "code",
   "execution_count": null,
   "metadata": {},
   "outputs": [],
   "source": [
    "# YOUR SOLUTION"
   ]
  },
  {
   "cell_type": "markdown",
   "metadata": {},
   "source": [
    "#### Task 8\n",
    "Write the code, which asks user to enter the positive integer number. The code should calculate and print out in one line (delimiter with space) all powers of 2 ($2^i$) from 1 to the entered number (including). Use `print` with option `end = ' '` (e.g. `print(..., end = ' ')`). Example:\n",
    "```\n",
    "Input:\n",
    "Enter the number: 4\n",
    "\n",
    "Output:\n",
    "2 4 8 16\n",
    "```"
   ]
  },
  {
   "cell_type": "code",
   "execution_count": null,
   "metadata": {},
   "outputs": [],
   "source": [
    "# YOUR SOLUTION"
   ]
  },
  {
   "cell_type": "markdown",
   "metadata": {},
   "source": [
    "#### Task 9\n",
    "Write a code to count the number of elements in list: e.g you have list `z = ['apple', 'apple', 'banana', 'apple', 'banana']`. The sample output of program is (hint: try use count() option applied to list and set() funcion to execute unique values):\n",
    "```\n",
    "apple: 3\n",
    "banana: 2\n",
    "```"
   ]
  },
  {
   "cell_type": "code",
   "execution_count": null,
   "metadata": {},
   "outputs": [],
   "source": [
    "# YOUR SOLUTION"
   ]
  },
  {
   "cell_type": "markdown",
   "metadata": {},
   "source": [
    "#### Task 10\n",
    "Write a code that asks the user for a string input containing multiple words (separated with spaces). Print back to the user the same string, except with the words in backwards order (hint: use split() option to list and use the while loop). For example:\n",
    "```\n",
    "input: Hello to the world\n",
    "output: world the to Hello\n",
    "```"
   ]
  },
  {
   "cell_type": "code",
   "execution_count": null,
   "metadata": {},
   "outputs": [],
   "source": [
    "# YOUR SOLUTION"
   ]
  }
 ],
 "metadata": {
  "kernelspec": {
   "display_name": "Python 3",
   "language": "python",
   "name": "python3"
  },
  "language_info": {
   "codemirror_mode": {
    "name": "ipython",
    "version": 3
   },
   "file_extension": ".py",
   "mimetype": "text/x-python",
   "name": "python",
   "nbconvert_exporter": "python",
   "pygments_lexer": "ipython3",
   "version": "3.7.1"
  }
 },
 "nbformat": 4,
 "nbformat_minor": 2
}

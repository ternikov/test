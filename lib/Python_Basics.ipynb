{
 "cells": [
  {
   "cell_type": "markdown",
   "metadata": {
    "id": "gzvTAF83yPAa"
   },
   "source": [
    "# 1. Python Basics\n",
    "\n",
    "## Install\n",
    "\n",
    "* Go to [Anaconda Downloads page](https://www.anaconda.com/products/individual), download Anaconda Individual Edition.\n",
    "* Install according to your operating system.  \n",
    "[for Windows (time: until 5:40)](https://www.youtube.com/watch?v=HcPStPCFgW4)  \n",
    "[for Mac (time: until 5:05)](https://www.youtube.com/watch?v=RFeIn2ywxG4)\n",
    "\n",
    "If you have any problems with Anaconda, an additional way to work with Jupyter notebooks is [Google colab](https://colab.research.google.com/)"
   ]
  },
  {
   "cell_type": "markdown",
   "metadata": {
    "id": "Tt_yfJFYyPAe"
   },
   "source": [
    "# Examples\n",
    "\n",
    "Cell with code:"
   ]
  },
  {
   "cell_type": "code",
   "execution_count": null,
   "metadata": {
    "id": "-rf4GDJiyPAf"
   },
   "outputs": [],
   "source": [
    "# This is cell with comments only"
   ]
  },
  {
   "cell_type": "code",
   "execution_count": null,
   "metadata": {
    "id": "WjGVX1YDyPAl"
   },
   "outputs": [],
   "source": [
    "# This is cell with output\n",
    "import sys\n",
    "print(sys.version)"
   ]
  },
  {
   "cell_type": "code",
   "execution_count": null,
   "metadata": {
    "id": "WXzbxGLGyPAl"
   },
   "outputs": [],
   "source": [
    "# This is cell with error\n",
    "print(time)"
   ]
  },
  {
   "cell_type": "markdown",
   "metadata": {
    "id": "zUYkFVr-yPAl"
   },
   "source": [
    "This is cell with markdown:"
   ]
  },
  {
   "cell_type": "markdown",
   "metadata": {
    "id": "HFkiFEAYyPAm"
   },
   "source": [
    "## Header\n",
    "### Smaller header\n",
    "\n",
    "* unordered list\n",
    "* second element\n",
    " 1. nested ordered list\n",
    " 2. second element\n",
    "\n",
    "Regular text [link to yandex](http://yandex.ru)\n",
    "\n",
    "**Text in bold**, and *text in italic*."
   ]
  },
  {
   "cell_type": "markdown",
   "metadata": {
    "id": "Ra5_PWOeyPAm"
   },
   "source": [
    "# Variables"
   ]
  },
  {
   "cell_type": "code",
   "execution_count": null,
   "metadata": {
    "id": "WbZ4ZgcoyPAn"
   },
   "outputs": [],
   "source": [
    "# string variable\n",
    "var_str = 'This is string!'\n",
    "# ... or\n",
    "var_str2 = \"This is string!\"\n",
    "# ... or multiline string\n",
    "var_str3 = '''This\n",
    "is\n",
    "a\n",
    "String'''\n",
    "\n",
    "# number\n",
    "var_num = 13\n",
    "\n",
    "# float\n",
    "var_flo = 12.4"
   ]
  },
  {
   "cell_type": "markdown",
   "metadata": {
    "id": "n5FUmEhsyPAn"
   },
   "source": [
    "## Manipulation with strings"
   ]
  },
  {
   "cell_type": "code",
   "execution_count": null,
   "metadata": {
    "id": "AAIHpt_GyPAn"
   },
   "outputs": [],
   "source": [
    "# String concatenation\n",
    "print(var_str + var_str2)"
   ]
  },
  {
   "cell_type": "code",
   "execution_count": null,
   "metadata": {
    "id": "5lNQkBOzyPAo"
   },
   "outputs": [],
   "source": [
    "# String multiplication\n",
    "print(var_str * 3)"
   ]
  },
  {
   "cell_type": "code",
   "execution_count": null,
   "metadata": {
    "id": "zJqu4tXAyPAo"
   },
   "outputs": [],
   "source": [
    "# String extraction\n",
    "print(var_str[0])"
   ]
  },
  {
   "cell_type": "code",
   "execution_count": null,
   "metadata": {
    "id": "bCpWHQKUyPAo"
   },
   "outputs": [],
   "source": [
    "# String extraction from the end\n",
    "print(var_str[-1])"
   ]
  },
  {
   "cell_type": "markdown",
   "metadata": {
    "id": "PVPkdq70yPAo"
   },
   "source": [
    "## Manipulation with numbers"
   ]
  },
  {
   "cell_type": "code",
   "execution_count": null,
   "metadata": {
    "id": "e7eF4sFqyPAp"
   },
   "outputs": [],
   "source": [
    "# Do some math\n",
    "print(var_num)\n",
    "print(var_num * 2)\n",
    "print(var_num ** 2)\n",
    "print(var_num / 2)\n",
    "print(var_num + 2)\n",
    "print(var_num - 2)\n",
    "print(var_num % 2)\n",
    "print(var_num // 2)"
   ]
  },
  {
   "cell_type": "code",
   "execution_count": null,
   "metadata": {
    "id": "Ad6XNrIQyPAp"
   },
   "outputs": [],
   "source": [
    "# NB! integer divided by integer always float!\n",
    "print( (var_num + 1) / 2)"
   ]
  },
  {
   "cell_type": "code",
   "execution_count": null,
   "metadata": {
    "id": "PTl27A0jyPAp"
   },
   "outputs": [],
   "source": [
    "# Some magic :)\n",
    "print( 1.1 - 1 )"
   ]
  }
 ],
 "metadata": {
  "colab": {
   "provenance": []
  },
  "kernelspec": {
   "display_name": "Python 3 (ipykernel)",
   "language": "python",
   "name": "python3"
  },
  "language_info": {
   "codemirror_mode": {
    "name": "ipython",
    "version": 3
   },
   "file_extension": ".py",
   "mimetype": "text/x-python",
   "name": "python",
   "nbconvert_exporter": "python",
   "pygments_lexer": "ipython3",
   "version": "3.7.1"
  }
 },
 "nbformat": 4,
 "nbformat_minor": 1
}
